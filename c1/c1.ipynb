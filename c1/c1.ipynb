{
 "cells": [
  {
   "cell_type": "code",
   "execution_count": 1,
   "metadata": {
    "scrolled": false
   },
   "outputs": [
    {
     "name": "stdout",
     "output_type": "stream",
     "text": [
      "DONE.\n"
     ]
    }
   ],
   "source": [
    "import requests\n",
    "from bs4 import BeautifulSoup\n",
    "from collections import OrderedDict\n",
    "import json\n",
    "\n",
    "\n",
    "def get_movies():\n",
    "    movies = {\"movies\": []}\n",
    "    \n",
    "    original_url = \"https://movie.douban.com/top250\"\n",
    "    headers = {\n",
    "                \"user-agent\": \"Mozilla/5.0 (Macintosh; Intel Mac OS X 10.14; rv:62.0) Gecko/20100101 Firefox/62.0\",\n",
    "                \"Host\": \"movie.douban.com\"\n",
    "              }\n",
    "    for i in range(10):\n",
    "        url = original_url + \"?start=\" + str(i * 25)\n",
    "        r = requests.get(url, headers=headers, timeout=20)\n",
    "        soup = BeautifulSoup(r.text, \"lxml\")\n",
    "        items = soup.find_all(\"div\", class_=\"item\")\n",
    "        \n",
    "        for item in items:\n",
    "            movie = OrderedDict()\n",
    "            \n",
    "            pic_tag = item.find(\"div\", class_=\"pic\")\n",
    "            img_num = int(pic_tag.em.string)\n",
    "            img_url = pic_tag.a.img.get(\"src\")\n",
    "\n",
    "            hd_tag = item.find(\"div\", class_=\"info\").find(\"div\", class_=\"hd\")\n",
    "            movie_name = hd_tag.a.span.string\n",
    "            \n",
    "            bd_tag = item.find(\"div\", class_=\"info\").find(\"div\", class_=\"bd\")\n",
    "            movie_rating_num = float(bd_tag.find(\"div\", class_=\"star\").find(\"span\", class_=\"rating_num\").string)\n",
    "            movie_quote = bd_tag.find(\"p\", class_=\"quote\").span.string\n",
    "            \n",
    "            movie[\"num\"] = img_num\n",
    "            movie[\"name\"] = movie_name\n",
    "            movie[\"img\"] = img_url\n",
    "            movie[\"rating_num\"] = movie_rating_num\n",
    "            movie[\"quote\"] = movie_quote\n",
    "            movies[\"movies\"].append(movie)\n",
    "    \n",
    "    return movies\n",
    "\n",
    "def download_img(num, name, url):\n",
    "    headers = {\"user-agent\": \"Mozilla/5.0 (Macintosh; Intel Mac OS X 10.14; rv:62.0) Gecko/20100101 Firefox/62.0\"}\n",
    "    r = requests.get(url, headers=headers, timeout=20)\n",
    "    \n",
    "    with open(\"./img/\"+str(num)+\"_\"+name+\".jpg\", \"wb\") as f:\n",
    "        f.write(r.content)\n",
    "\n",
    "        \n",
    "def generate_json_file(name, value):\n",
    "    with open(name+\".json\", \"w\", encoding=\"utf-8\") as f:\n",
    "        f.write(json.dumps(value))\n",
    "\n",
    "def generate_txt_file(name, movies):\n",
    "    with open(name+\".txt\", \"w\", encoding=\"utf-8\") as f:\n",
    "        for movie in movies[\"movies\"]:\n",
    "            for v in movie.values():\n",
    "                f.write(str(v)+\"\\t\")\n",
    "            f.write(\"\\n\")\n",
    "            \n",
    "def sort_movies(movies, reverse=False):\n",
    "    movies[\"movies\"].sort(key=lambda movie: movie[\"rating_num\"], reverse=reverse)\n",
    "\n",
    "if __name__ == \"__main__\":\n",
    "    movies = get_movies()\n",
    "    generate_json_file(\"movies\", movies)\n",
    "    generate_txt_file(\"movies\", movies)\n",
    "    for movie in movies[\"movies\"]:\n",
    "#         for v in movie.values():\n",
    "#             print(v, end=\"  \")\n",
    "#         print()\n",
    "        download_img(movie[\"num\"], movie[\"name\"], movie[\"img\"])\n",
    "        \n",
    "    sort_movies(movies, reverse=True)\n",
    "    generate_txt_file(\"movies_sorted_by_rating\", movies)\n",
    "    print(\"DONE.\")\n",
    "    \n",
    "    "
   ]
  },
  {
   "cell_type": "code",
   "execution_count": null,
   "metadata": {},
   "outputs": [],
   "source": []
  }
 ],
 "metadata": {
  "kernelspec": {
   "display_name": "Python 3",
   "language": "python",
   "name": "python3"
  },
  "language_info": {
   "codemirror_mode": {
    "name": "ipython",
    "version": 3
   },
   "file_extension": ".py",
   "mimetype": "text/x-python",
   "name": "python",
   "nbconvert_exporter": "python",
   "pygments_lexer": "ipython3",
   "version": "3.7.0"
  }
 },
 "nbformat": 4,
 "nbformat_minor": 2
}
